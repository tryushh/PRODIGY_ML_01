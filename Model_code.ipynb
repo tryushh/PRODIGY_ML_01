{
 "cells": [
  {
   "cell_type": "code",
   "execution_count": 2,
   "id": "a3b33774",
   "metadata": {},
   "outputs": [],
   "source": [
    "##importing the necessary libraries\n",
    "import pandas as pd\n",
    "import numpy as np"
   ]
  },
  {
   "cell_type": "code",
   "execution_count": 32,
   "id": "a9d7e0f7",
   "metadata": {},
   "outputs": [],
   "source": [
    "##Import the train and test datasets\n",
    "train_df = pd.read_csv('train.csv')\n",
    "test_df = pd.read_csv('test.csv')"
   ]
  },
  {
   "cell_type": "code",
   "execution_count": 49,
   "id": "2da0711b",
   "metadata": {},
   "outputs": [
    {
     "name": "stdout",
     "output_type": "stream",
     "text": [
      "<class 'pandas.core.frame.DataFrame'>\n",
      "RangeIndex: 1459 entries, 0 to 1458\n",
      "Data columns (total 8 columns):\n",
      " #   Column        Non-Null Count  Dtype  \n",
      "---  ------        --------------  -----  \n",
      " 0   Id            1459 non-null   int64  \n",
      " 1   LotArea       1459 non-null   int64  \n",
      " 2   TotalBsmtSF   1458 non-null   float64\n",
      " 3   BsmtFullBath  1457 non-null   float64\n",
      " 4   BsmtHalfBath  1457 non-null   float64\n",
      " 5   FullBath      1459 non-null   int64  \n",
      " 6   HalfBath      1459 non-null   int64  \n",
      " 7   BedroomAbvGr  1459 non-null   int64  \n",
      "dtypes: float64(3), int64(5)\n",
      "memory usage: 91.3 KB\n"
     ]
    }
   ],
   "source": [
    "new_test_df = test_df[['Id', 'LotArea','TotalBsmtSF' , 'BsmtFullBath', 'BsmtHalfBath', 'FullBath', 'HalfBath', 'BedroomAbvGr']]\n",
    "new_test_df.info()"
   ]
  },
  {
   "cell_type": "code",
   "execution_count": 50,
   "id": "67c8b354",
   "metadata": {},
   "outputs": [
    {
     "name": "stdout",
     "output_type": "stream",
     "text": [
      "<class 'pandas.core.frame.DataFrame'>\n",
      "Index: 1457 entries, 0 to 1458\n",
      "Data columns (total 8 columns):\n",
      " #   Column        Non-Null Count  Dtype  \n",
      "---  ------        --------------  -----  \n",
      " 0   Id            1457 non-null   int64  \n",
      " 1   LotArea       1457 non-null   int64  \n",
      " 2   TotalBsmtSF   1457 non-null   float64\n",
      " 3   BsmtFullBath  1457 non-null   float64\n",
      " 4   BsmtHalfBath  1457 non-null   float64\n",
      " 5   FullBath      1457 non-null   int64  \n",
      " 6   HalfBath      1457 non-null   int64  \n",
      " 7   BedroomAbvGr  1457 non-null   int64  \n",
      "dtypes: float64(3), int64(5)\n",
      "memory usage: 102.4 KB\n"
     ]
    },
    {
     "name": "stderr",
     "output_type": "stream",
     "text": [
      "C:\\Users\\Ayush\\AppData\\Local\\Temp\\ipykernel_20328\\2541804468.py:1: SettingWithCopyWarning: \n",
      "A value is trying to be set on a copy of a slice from a DataFrame\n",
      "\n",
      "See the caveats in the documentation: https://pandas.pydata.org/pandas-docs/stable/user_guide/indexing.html#returning-a-view-versus-a-copy\n",
      "  new_test_df.dropna(inplace=True)\n"
     ]
    }
   ],
   "source": [
    "new_test_df.dropna(inplace=True)\n",
    "new_test_df.info()"
   ]
  },
  {
   "cell_type": "markdown",
   "id": "aac2fba3",
   "metadata": {},
   "source": [
    "### Creating a new dataset"
   ]
  },
  {
   "cell_type": "code",
   "execution_count": 51,
   "id": "13ab4509",
   "metadata": {
    "scrolled": true
   },
   "outputs": [
    {
     "data": {
      "text/html": [
       "<div>\n",
       "<style scoped>\n",
       "    .dataframe tbody tr th:only-of-type {\n",
       "        vertical-align: middle;\n",
       "    }\n",
       "\n",
       "    .dataframe tbody tr th {\n",
       "        vertical-align: top;\n",
       "    }\n",
       "\n",
       "    .dataframe thead th {\n",
       "        text-align: right;\n",
       "    }\n",
       "</style>\n",
       "<table border=\"1\" class=\"dataframe\">\n",
       "  <thead>\n",
       "    <tr style=\"text-align: right;\">\n",
       "      <th></th>\n",
       "      <th>Id</th>\n",
       "      <th>MSSubClass</th>\n",
       "      <th>MSZoning</th>\n",
       "      <th>LotFrontage</th>\n",
       "      <th>LotArea</th>\n",
       "      <th>Street</th>\n",
       "      <th>Alley</th>\n",
       "      <th>LotShape</th>\n",
       "      <th>LandContour</th>\n",
       "      <th>Utilities</th>\n",
       "      <th>...</th>\n",
       "      <th>PoolArea</th>\n",
       "      <th>PoolQC</th>\n",
       "      <th>Fence</th>\n",
       "      <th>MiscFeature</th>\n",
       "      <th>MiscVal</th>\n",
       "      <th>MoSold</th>\n",
       "      <th>YrSold</th>\n",
       "      <th>SaleType</th>\n",
       "      <th>SaleCondition</th>\n",
       "      <th>SalePrice</th>\n",
       "    </tr>\n",
       "  </thead>\n",
       "  <tbody>\n",
       "    <tr>\n",
       "      <th>0</th>\n",
       "      <td>1</td>\n",
       "      <td>60</td>\n",
       "      <td>RL</td>\n",
       "      <td>65.0</td>\n",
       "      <td>8450</td>\n",
       "      <td>Pave</td>\n",
       "      <td>NaN</td>\n",
       "      <td>Reg</td>\n",
       "      <td>Lvl</td>\n",
       "      <td>AllPub</td>\n",
       "      <td>...</td>\n",
       "      <td>0</td>\n",
       "      <td>NaN</td>\n",
       "      <td>NaN</td>\n",
       "      <td>NaN</td>\n",
       "      <td>0</td>\n",
       "      <td>2</td>\n",
       "      <td>2008</td>\n",
       "      <td>WD</td>\n",
       "      <td>Normal</td>\n",
       "      <td>208500</td>\n",
       "    </tr>\n",
       "    <tr>\n",
       "      <th>1</th>\n",
       "      <td>2</td>\n",
       "      <td>20</td>\n",
       "      <td>RL</td>\n",
       "      <td>80.0</td>\n",
       "      <td>9600</td>\n",
       "      <td>Pave</td>\n",
       "      <td>NaN</td>\n",
       "      <td>Reg</td>\n",
       "      <td>Lvl</td>\n",
       "      <td>AllPub</td>\n",
       "      <td>...</td>\n",
       "      <td>0</td>\n",
       "      <td>NaN</td>\n",
       "      <td>NaN</td>\n",
       "      <td>NaN</td>\n",
       "      <td>0</td>\n",
       "      <td>5</td>\n",
       "      <td>2007</td>\n",
       "      <td>WD</td>\n",
       "      <td>Normal</td>\n",
       "      <td>181500</td>\n",
       "    </tr>\n",
       "    <tr>\n",
       "      <th>2</th>\n",
       "      <td>3</td>\n",
       "      <td>60</td>\n",
       "      <td>RL</td>\n",
       "      <td>68.0</td>\n",
       "      <td>11250</td>\n",
       "      <td>Pave</td>\n",
       "      <td>NaN</td>\n",
       "      <td>IR1</td>\n",
       "      <td>Lvl</td>\n",
       "      <td>AllPub</td>\n",
       "      <td>...</td>\n",
       "      <td>0</td>\n",
       "      <td>NaN</td>\n",
       "      <td>NaN</td>\n",
       "      <td>NaN</td>\n",
       "      <td>0</td>\n",
       "      <td>9</td>\n",
       "      <td>2008</td>\n",
       "      <td>WD</td>\n",
       "      <td>Normal</td>\n",
       "      <td>223500</td>\n",
       "    </tr>\n",
       "    <tr>\n",
       "      <th>3</th>\n",
       "      <td>4</td>\n",
       "      <td>70</td>\n",
       "      <td>RL</td>\n",
       "      <td>60.0</td>\n",
       "      <td>9550</td>\n",
       "      <td>Pave</td>\n",
       "      <td>NaN</td>\n",
       "      <td>IR1</td>\n",
       "      <td>Lvl</td>\n",
       "      <td>AllPub</td>\n",
       "      <td>...</td>\n",
       "      <td>0</td>\n",
       "      <td>NaN</td>\n",
       "      <td>NaN</td>\n",
       "      <td>NaN</td>\n",
       "      <td>0</td>\n",
       "      <td>2</td>\n",
       "      <td>2006</td>\n",
       "      <td>WD</td>\n",
       "      <td>Abnorml</td>\n",
       "      <td>140000</td>\n",
       "    </tr>\n",
       "    <tr>\n",
       "      <th>4</th>\n",
       "      <td>5</td>\n",
       "      <td>60</td>\n",
       "      <td>RL</td>\n",
       "      <td>84.0</td>\n",
       "      <td>14260</td>\n",
       "      <td>Pave</td>\n",
       "      <td>NaN</td>\n",
       "      <td>IR1</td>\n",
       "      <td>Lvl</td>\n",
       "      <td>AllPub</td>\n",
       "      <td>...</td>\n",
       "      <td>0</td>\n",
       "      <td>NaN</td>\n",
       "      <td>NaN</td>\n",
       "      <td>NaN</td>\n",
       "      <td>0</td>\n",
       "      <td>12</td>\n",
       "      <td>2008</td>\n",
       "      <td>WD</td>\n",
       "      <td>Normal</td>\n",
       "      <td>250000</td>\n",
       "    </tr>\n",
       "    <tr>\n",
       "      <th>5</th>\n",
       "      <td>6</td>\n",
       "      <td>50</td>\n",
       "      <td>RL</td>\n",
       "      <td>85.0</td>\n",
       "      <td>14115</td>\n",
       "      <td>Pave</td>\n",
       "      <td>NaN</td>\n",
       "      <td>IR1</td>\n",
       "      <td>Lvl</td>\n",
       "      <td>AllPub</td>\n",
       "      <td>...</td>\n",
       "      <td>0</td>\n",
       "      <td>NaN</td>\n",
       "      <td>MnPrv</td>\n",
       "      <td>Shed</td>\n",
       "      <td>700</td>\n",
       "      <td>10</td>\n",
       "      <td>2009</td>\n",
       "      <td>WD</td>\n",
       "      <td>Normal</td>\n",
       "      <td>143000</td>\n",
       "    </tr>\n",
       "    <tr>\n",
       "      <th>6</th>\n",
       "      <td>7</td>\n",
       "      <td>20</td>\n",
       "      <td>RL</td>\n",
       "      <td>75.0</td>\n",
       "      <td>10084</td>\n",
       "      <td>Pave</td>\n",
       "      <td>NaN</td>\n",
       "      <td>Reg</td>\n",
       "      <td>Lvl</td>\n",
       "      <td>AllPub</td>\n",
       "      <td>...</td>\n",
       "      <td>0</td>\n",
       "      <td>NaN</td>\n",
       "      <td>NaN</td>\n",
       "      <td>NaN</td>\n",
       "      <td>0</td>\n",
       "      <td>8</td>\n",
       "      <td>2007</td>\n",
       "      <td>WD</td>\n",
       "      <td>Normal</td>\n",
       "      <td>307000</td>\n",
       "    </tr>\n",
       "    <tr>\n",
       "      <th>7</th>\n",
       "      <td>8</td>\n",
       "      <td>60</td>\n",
       "      <td>RL</td>\n",
       "      <td>NaN</td>\n",
       "      <td>10382</td>\n",
       "      <td>Pave</td>\n",
       "      <td>NaN</td>\n",
       "      <td>IR1</td>\n",
       "      <td>Lvl</td>\n",
       "      <td>AllPub</td>\n",
       "      <td>...</td>\n",
       "      <td>0</td>\n",
       "      <td>NaN</td>\n",
       "      <td>NaN</td>\n",
       "      <td>Shed</td>\n",
       "      <td>350</td>\n",
       "      <td>11</td>\n",
       "      <td>2009</td>\n",
       "      <td>WD</td>\n",
       "      <td>Normal</td>\n",
       "      <td>200000</td>\n",
       "    </tr>\n",
       "    <tr>\n",
       "      <th>8</th>\n",
       "      <td>9</td>\n",
       "      <td>50</td>\n",
       "      <td>RM</td>\n",
       "      <td>51.0</td>\n",
       "      <td>6120</td>\n",
       "      <td>Pave</td>\n",
       "      <td>NaN</td>\n",
       "      <td>Reg</td>\n",
       "      <td>Lvl</td>\n",
       "      <td>AllPub</td>\n",
       "      <td>...</td>\n",
       "      <td>0</td>\n",
       "      <td>NaN</td>\n",
       "      <td>NaN</td>\n",
       "      <td>NaN</td>\n",
       "      <td>0</td>\n",
       "      <td>4</td>\n",
       "      <td>2008</td>\n",
       "      <td>WD</td>\n",
       "      <td>Abnorml</td>\n",
       "      <td>129900</td>\n",
       "    </tr>\n",
       "    <tr>\n",
       "      <th>9</th>\n",
       "      <td>10</td>\n",
       "      <td>190</td>\n",
       "      <td>RL</td>\n",
       "      <td>50.0</td>\n",
       "      <td>7420</td>\n",
       "      <td>Pave</td>\n",
       "      <td>NaN</td>\n",
       "      <td>Reg</td>\n",
       "      <td>Lvl</td>\n",
       "      <td>AllPub</td>\n",
       "      <td>...</td>\n",
       "      <td>0</td>\n",
       "      <td>NaN</td>\n",
       "      <td>NaN</td>\n",
       "      <td>NaN</td>\n",
       "      <td>0</td>\n",
       "      <td>1</td>\n",
       "      <td>2008</td>\n",
       "      <td>WD</td>\n",
       "      <td>Normal</td>\n",
       "      <td>118000</td>\n",
       "    </tr>\n",
       "  </tbody>\n",
       "</table>\n",
       "<p>10 rows × 81 columns</p>\n",
       "</div>"
      ],
      "text/plain": [
       "   Id  MSSubClass MSZoning  LotFrontage  LotArea Street Alley LotShape  \\\n",
       "0   1          60       RL         65.0     8450   Pave   NaN      Reg   \n",
       "1   2          20       RL         80.0     9600   Pave   NaN      Reg   \n",
       "2   3          60       RL         68.0    11250   Pave   NaN      IR1   \n",
       "3   4          70       RL         60.0     9550   Pave   NaN      IR1   \n",
       "4   5          60       RL         84.0    14260   Pave   NaN      IR1   \n",
       "5   6          50       RL         85.0    14115   Pave   NaN      IR1   \n",
       "6   7          20       RL         75.0    10084   Pave   NaN      Reg   \n",
       "7   8          60       RL          NaN    10382   Pave   NaN      IR1   \n",
       "8   9          50       RM         51.0     6120   Pave   NaN      Reg   \n",
       "9  10         190       RL         50.0     7420   Pave   NaN      Reg   \n",
       "\n",
       "  LandContour Utilities  ... PoolArea PoolQC  Fence MiscFeature MiscVal  \\\n",
       "0         Lvl    AllPub  ...        0    NaN    NaN         NaN       0   \n",
       "1         Lvl    AllPub  ...        0    NaN    NaN         NaN       0   \n",
       "2         Lvl    AllPub  ...        0    NaN    NaN         NaN       0   \n",
       "3         Lvl    AllPub  ...        0    NaN    NaN         NaN       0   \n",
       "4         Lvl    AllPub  ...        0    NaN    NaN         NaN       0   \n",
       "5         Lvl    AllPub  ...        0    NaN  MnPrv        Shed     700   \n",
       "6         Lvl    AllPub  ...        0    NaN    NaN         NaN       0   \n",
       "7         Lvl    AllPub  ...        0    NaN    NaN        Shed     350   \n",
       "8         Lvl    AllPub  ...        0    NaN    NaN         NaN       0   \n",
       "9         Lvl    AllPub  ...        0    NaN    NaN         NaN       0   \n",
       "\n",
       "  MoSold YrSold  SaleType  SaleCondition  SalePrice  \n",
       "0      2   2008        WD         Normal     208500  \n",
       "1      5   2007        WD         Normal     181500  \n",
       "2      9   2008        WD         Normal     223500  \n",
       "3      2   2006        WD        Abnorml     140000  \n",
       "4     12   2008        WD         Normal     250000  \n",
       "5     10   2009        WD         Normal     143000  \n",
       "6      8   2007        WD         Normal     307000  \n",
       "7     11   2009        WD         Normal     200000  \n",
       "8      4   2008        WD        Abnorml     129900  \n",
       "9      1   2008        WD         Normal     118000  \n",
       "\n",
       "[10 rows x 81 columns]"
      ]
     },
     "execution_count": 51,
     "metadata": {},
     "output_type": "execute_result"
    }
   ],
   "source": [
    "train_df.head(10)"
   ]
  },
  {
   "cell_type": "code",
   "execution_count": 52,
   "id": "178aa7b0",
   "metadata": {},
   "outputs": [
    {
     "name": "stdout",
     "output_type": "stream",
     "text": [
      "<class 'pandas.core.frame.DataFrame'>\n",
      "RangeIndex: 1460 entries, 0 to 1459\n",
      "Data columns (total 81 columns):\n",
      " #   Column         Non-Null Count  Dtype  \n",
      "---  ------         --------------  -----  \n",
      " 0   Id             1460 non-null   int64  \n",
      " 1   MSSubClass     1460 non-null   int64  \n",
      " 2   MSZoning       1460 non-null   object \n",
      " 3   LotFrontage    1201 non-null   float64\n",
      " 4   LotArea        1460 non-null   int64  \n",
      " 5   Street         1460 non-null   object \n",
      " 6   Alley          91 non-null     object \n",
      " 7   LotShape       1460 non-null   object \n",
      " 8   LandContour    1460 non-null   object \n",
      " 9   Utilities      1460 non-null   object \n",
      " 10  LotConfig      1460 non-null   object \n",
      " 11  LandSlope      1460 non-null   object \n",
      " 12  Neighborhood   1460 non-null   object \n",
      " 13  Condition1     1460 non-null   object \n",
      " 14  Condition2     1460 non-null   object \n",
      " 15  BldgType       1460 non-null   object \n",
      " 16  HouseStyle     1460 non-null   object \n",
      " 17  OverallQual    1460 non-null   int64  \n",
      " 18  OverallCond    1460 non-null   int64  \n",
      " 19  YearBuilt      1460 non-null   int64  \n",
      " 20  YearRemodAdd   1460 non-null   int64  \n",
      " 21  RoofStyle      1460 non-null   object \n",
      " 22  RoofMatl       1460 non-null   object \n",
      " 23  Exterior1st    1460 non-null   object \n",
      " 24  Exterior2nd    1460 non-null   object \n",
      " 25  MasVnrType     588 non-null    object \n",
      " 26  MasVnrArea     1452 non-null   float64\n",
      " 27  ExterQual      1460 non-null   object \n",
      " 28  ExterCond      1460 non-null   object \n",
      " 29  Foundation     1460 non-null   object \n",
      " 30  BsmtQual       1423 non-null   object \n",
      " 31  BsmtCond       1423 non-null   object \n",
      " 32  BsmtExposure   1422 non-null   object \n",
      " 33  BsmtFinType1   1423 non-null   object \n",
      " 34  BsmtFinSF1     1460 non-null   int64  \n",
      " 35  BsmtFinType2   1422 non-null   object \n",
      " 36  BsmtFinSF2     1460 non-null   int64  \n",
      " 37  BsmtUnfSF      1460 non-null   int64  \n",
      " 38  TotalBsmtSF    1460 non-null   int64  \n",
      " 39  Heating        1460 non-null   object \n",
      " 40  HeatingQC      1460 non-null   object \n",
      " 41  CentralAir     1460 non-null   object \n",
      " 42  Electrical     1459 non-null   object \n",
      " 43  1stFlrSF       1460 non-null   int64  \n",
      " 44  2ndFlrSF       1460 non-null   int64  \n",
      " 45  LowQualFinSF   1460 non-null   int64  \n",
      " 46  GrLivArea      1460 non-null   int64  \n",
      " 47  BsmtFullBath   1460 non-null   int64  \n",
      " 48  BsmtHalfBath   1460 non-null   int64  \n",
      " 49  FullBath       1460 non-null   int64  \n",
      " 50  HalfBath       1460 non-null   int64  \n",
      " 51  BedroomAbvGr   1460 non-null   int64  \n",
      " 52  KitchenAbvGr   1460 non-null   int64  \n",
      " 53  KitchenQual    1460 non-null   object \n",
      " 54  TotRmsAbvGrd   1460 non-null   int64  \n",
      " 55  Functional     1460 non-null   object \n",
      " 56  Fireplaces     1460 non-null   int64  \n",
      " 57  FireplaceQu    770 non-null    object \n",
      " 58  GarageType     1379 non-null   object \n",
      " 59  GarageYrBlt    1379 non-null   float64\n",
      " 60  GarageFinish   1379 non-null   object \n",
      " 61  GarageCars     1460 non-null   int64  \n",
      " 62  GarageArea     1460 non-null   int64  \n",
      " 63  GarageQual     1379 non-null   object \n",
      " 64  GarageCond     1379 non-null   object \n",
      " 65  PavedDrive     1460 non-null   object \n",
      " 66  WoodDeckSF     1460 non-null   int64  \n",
      " 67  OpenPorchSF    1460 non-null   int64  \n",
      " 68  EnclosedPorch  1460 non-null   int64  \n",
      " 69  3SsnPorch      1460 non-null   int64  \n",
      " 70  ScreenPorch    1460 non-null   int64  \n",
      " 71  PoolArea       1460 non-null   int64  \n",
      " 72  PoolQC         7 non-null      object \n",
      " 73  Fence          281 non-null    object \n",
      " 74  MiscFeature    54 non-null     object \n",
      " 75  MiscVal        1460 non-null   int64  \n",
      " 76  MoSold         1460 non-null   int64  \n",
      " 77  YrSold         1460 non-null   int64  \n",
      " 78  SaleType       1460 non-null   object \n",
      " 79  SaleCondition  1460 non-null   object \n",
      " 80  SalePrice      1460 non-null   int64  \n",
      "dtypes: float64(3), int64(35), object(43)\n",
      "memory usage: 924.0+ KB\n"
     ]
    }
   ],
   "source": [
    "train_df.info()"
   ]
  },
  {
   "cell_type": "code",
   "execution_count": 53,
   "id": "7aa36c03",
   "metadata": {},
   "outputs": [
    {
     "data": {
      "text/html": [
       "<div>\n",
       "<style scoped>\n",
       "    .dataframe tbody tr th:only-of-type {\n",
       "        vertical-align: middle;\n",
       "    }\n",
       "\n",
       "    .dataframe tbody tr th {\n",
       "        vertical-align: top;\n",
       "    }\n",
       "\n",
       "    .dataframe thead th {\n",
       "        text-align: right;\n",
       "    }\n",
       "</style>\n",
       "<table border=\"1\" class=\"dataframe\">\n",
       "  <thead>\n",
       "    <tr style=\"text-align: right;\">\n",
       "      <th></th>\n",
       "      <th>Id</th>\n",
       "      <th>LotArea</th>\n",
       "      <th>TotalBsmtSF</th>\n",
       "      <th>BsmtFullBath</th>\n",
       "      <th>BsmtHalfBath</th>\n",
       "      <th>FullBath</th>\n",
       "      <th>HalfBath</th>\n",
       "      <th>BedroomAbvGr</th>\n",
       "      <th>SalePrice</th>\n",
       "    </tr>\n",
       "  </thead>\n",
       "  <tbody>\n",
       "    <tr>\n",
       "      <th>0</th>\n",
       "      <td>1</td>\n",
       "      <td>8450</td>\n",
       "      <td>856</td>\n",
       "      <td>1</td>\n",
       "      <td>0</td>\n",
       "      <td>2</td>\n",
       "      <td>1</td>\n",
       "      <td>3</td>\n",
       "      <td>208500</td>\n",
       "    </tr>\n",
       "    <tr>\n",
       "      <th>1</th>\n",
       "      <td>2</td>\n",
       "      <td>9600</td>\n",
       "      <td>1262</td>\n",
       "      <td>0</td>\n",
       "      <td>1</td>\n",
       "      <td>2</td>\n",
       "      <td>0</td>\n",
       "      <td>3</td>\n",
       "      <td>181500</td>\n",
       "    </tr>\n",
       "    <tr>\n",
       "      <th>2</th>\n",
       "      <td>3</td>\n",
       "      <td>11250</td>\n",
       "      <td>920</td>\n",
       "      <td>1</td>\n",
       "      <td>0</td>\n",
       "      <td>2</td>\n",
       "      <td>1</td>\n",
       "      <td>3</td>\n",
       "      <td>223500</td>\n",
       "    </tr>\n",
       "    <tr>\n",
       "      <th>3</th>\n",
       "      <td>4</td>\n",
       "      <td>9550</td>\n",
       "      <td>756</td>\n",
       "      <td>1</td>\n",
       "      <td>0</td>\n",
       "      <td>1</td>\n",
       "      <td>0</td>\n",
       "      <td>3</td>\n",
       "      <td>140000</td>\n",
       "    </tr>\n",
       "    <tr>\n",
       "      <th>4</th>\n",
       "      <td>5</td>\n",
       "      <td>14260</td>\n",
       "      <td>1145</td>\n",
       "      <td>1</td>\n",
       "      <td>0</td>\n",
       "      <td>2</td>\n",
       "      <td>1</td>\n",
       "      <td>4</td>\n",
       "      <td>250000</td>\n",
       "    </tr>\n",
       "  </tbody>\n",
       "</table>\n",
       "</div>"
      ],
      "text/plain": [
       "   Id  LotArea  TotalBsmtSF  BsmtFullBath  BsmtHalfBath  FullBath  HalfBath  \\\n",
       "0   1     8450          856             1             0         2         1   \n",
       "1   2     9600         1262             0             1         2         0   \n",
       "2   3    11250          920             1             0         2         1   \n",
       "3   4     9550          756             1             0         1         0   \n",
       "4   5    14260         1145             1             0         2         1   \n",
       "\n",
       "   BedroomAbvGr  SalePrice  \n",
       "0             3     208500  \n",
       "1             3     181500  \n",
       "2             3     223500  \n",
       "3             3     140000  \n",
       "4             4     250000  "
      ]
     },
     "execution_count": 53,
     "metadata": {},
     "output_type": "execute_result"
    }
   ],
   "source": [
    "##Creating a new dataset based on the existing dataset\n",
    "new_train_df = train_df[['Id', 'LotArea','TotalBsmtSF' ,'BsmtFullBath', 'BsmtHalfBath', 'FullBath', 'HalfBath', 'BedroomAbvGr', 'SalePrice']]\n",
    "new_train_df.head()"
   ]
  },
  {
   "cell_type": "code",
   "execution_count": 54,
   "id": "3b28cfa3",
   "metadata": {},
   "outputs": [
    {
     "name": "stdout",
     "output_type": "stream",
     "text": [
      "<class 'pandas.core.frame.DataFrame'>\n",
      "RangeIndex: 1460 entries, 0 to 1459\n",
      "Data columns (total 9 columns):\n",
      " #   Column        Non-Null Count  Dtype\n",
      "---  ------        --------------  -----\n",
      " 0   Id            1460 non-null   int64\n",
      " 1   LotArea       1460 non-null   int64\n",
      " 2   TotalBsmtSF   1460 non-null   int64\n",
      " 3   BsmtFullBath  1460 non-null   int64\n",
      " 4   BsmtHalfBath  1460 non-null   int64\n",
      " 5   FullBath      1460 non-null   int64\n",
      " 6   HalfBath      1460 non-null   int64\n",
      " 7   BedroomAbvGr  1460 non-null   int64\n",
      " 8   SalePrice     1460 non-null   int64\n",
      "dtypes: int64(9)\n",
      "memory usage: 102.8 KB\n"
     ]
    }
   ],
   "source": [
    "new_train_df.info()"
   ]
  },
  {
   "cell_type": "markdown",
   "id": "5c1a667a",
   "metadata": {},
   "source": [
    "### Visualizing the dataset"
   ]
  },
  {
   "cell_type": "code",
   "execution_count": 55,
   "id": "142ca638",
   "metadata": {},
   "outputs": [],
   "source": [
    "##importing the necessary visualization libraries\n",
    "import matplotlib.pyplot as plt\n",
    "import seaborn as sns"
   ]
  },
  {
   "cell_type": "code",
   "execution_count": 56,
   "id": "a7f3e74a",
   "metadata": {},
   "outputs": [],
   "source": [
    "##Checking the correlation of features with the target variable\n",
    "new_corr = new_train_df.corr()"
   ]
  },
  {
   "cell_type": "code",
   "execution_count": 57,
   "id": "3ccaa60d",
   "metadata": {},
   "outputs": [
    {
     "data": {
      "image/png": "[encoded data removed]",
      "text/plain": [
       "<Figure size 640x480 with 2 Axes>"
      ]
     },
     "metadata": {},
     "output_type": "display_data"
    }
   ],
   "source": [
    "##Creating a heatmap\n",
    "plt.figure()\n",
    "sns.heatmap(new_corr[['SalePrice']], annot=True)\n",
    "plt.title(\"Correlation with Sale Price Heatmap\")\n",
    "plt.show()"
   ]
  },
  {
   "cell_type": "markdown",
   "id": "bb15d868",
   "metadata": {},
   "source": [
    "### Model Training(Linear Regression)"
   ]
  },
  {
   "cell_type": "code",
   "execution_count": 58,
   "id": "b278e3a5",
   "metadata": {},
   "outputs": [],
   "source": [
    "##importing the necessary regression libraries\n",
    "from sklearn.linear_model import LinearRegression\n",
    "from sklearn.model_selection import train_test_split"
   ]
  },
  {
   "cell_type": "markdown",
   "id": "42c1546b",
   "metadata": {},
   "source": [
    "We can remove the 'Id' and 'BsmtHalfBath' features because they are low in correlation to sale price"
   ]
  },
  {
   "cell_type": "code",
   "execution_count": 60,
   "id": "95800a5e",
   "metadata": {},
   "outputs": [],
   "source": [
    "##Feature Selection\n",
    "X = new_train_df[['LotArea','TotalBsmtSF' ,'BsmtFullBath', 'FullBath', 'HalfBath', 'BedroomAbvGr']]\n",
    "y = new_train_df[['SalePrice']]"
   ]
  },
  {
   "cell_type": "code",
   "execution_count": 61,
   "id": "fb335648",
   "metadata": {},
   "outputs": [],
   "source": [
    "##Applying train test split on train.csv\n",
    "X_train, X_test, y_train, y_test = train_test_split(X, y, test_size = 0.2, random_state=42)"
   ]
  },
  {
   "cell_type": "code",
   "execution_count": 62,
   "id": "b5cdda4e",
   "metadata": {},
   "outputs": [
    {
     "data": {
      "text/html": [
       "<style>#sk-container-id-6 {color: black;}#sk-container-id-6 pre{padding: 0;}#sk-container-id-6 div.sk-toggleable {background-color: white;}#sk-container-id-6 label.sk-toggleable__label {cursor: pointer;display: block;width: 100%;margin-bottom: 0;padding: 0.3em;box-sizing: border-box;text-align: center;}#sk-container-id-6 label.sk-toggleable__label-arrow:before {content: \"▸\";float: left;margin-right: 0.25em;color: #696969;}#sk-container-id-6 label.sk-toggleable__label-arrow:hover:before {color: black;}#sk-container-id-6 div.sk-estimator:hover label.sk-toggleable__label-arrow:before {color: black;}#sk-container-id-6 div.sk-toggleable__content {max-height: 0;max-width: 0;overflow: hidden;text-align: left;background-color: #f0f8ff;}#sk-container-id-6 div.sk-toggleable__content pre {margin: 0.2em;color: black;border-radius: 0.25em;background-color: #f0f8ff;}#sk-container-id-6 input.sk-toggleable__control:checked~div.sk-toggleable__content {max-height: 200px;max-width: 100%;overflow: auto;}#sk-container-id-6 input.sk-toggleable__control:checked~label.sk-toggleable__label-arrow:before {content: \"▾\";}#sk-container-id-6 div.sk-estimator input.sk-toggleable__control:checked~label.sk-toggleable__label {background-color: #d4ebff;}#sk-container-id-6 div.sk-label input.sk-toggleable__control:checked~label.sk-toggleable__label {background-color: #d4ebff;}#sk-container-id-6 input.sk-hidden--visually {border: 0;clip: rect(1px 1px 1px 1px);clip: rect(1px, 1px, 1px, 1px);height: 1px;margin: -1px;overflow: hidden;padding: 0;position: absolute;width: 1px;}#sk-container-id-6 div.sk-estimator {font-family: monospace;background-color: #f0f8ff;border: 1px dotted black;border-radius: 0.25em;box-sizing: border-box;margin-bottom: 0.5em;}#sk-container-id-6 div.sk-estimator:hover {background-color: #d4ebff;}#sk-container-id-6 div.sk-parallel-item::after {content: \"\";width: 100%;border-bottom: 1px solid gray;flex-grow: 1;}#sk-container-id-6 div.sk-label:hover label.sk-toggleable__label {background-color: #d4ebff;}#sk-container-id-6 div.sk-serial::before {content: \"\";position: absolute;border-left: 1px solid gray;box-sizing: border-box;top: 0;bottom: 0;left: 50%;z-index: 0;}#sk-container-id-6 div.sk-serial {display: flex;flex-direction: column;align-items: center;background-color: white;padding-right: 0.2em;padding-left: 0.2em;position: relative;}#sk-container-id-6 div.sk-item {position: relative;z-index: 1;}#sk-container-id-6 div.sk-parallel {display: flex;align-items: stretch;justify-content: center;background-color: white;position: relative;}#sk-container-id-6 div.sk-item::before, #sk-container-id-6 div.sk-parallel-item::before {content: \"\";position: absolute;border-left: 1px solid gray;box-sizing: border-box;top: 0;bottom: 0;left: 50%;z-index: -1;}#sk-container-id-6 div.sk-parallel-item {display: flex;flex-direction: column;z-index: 1;position: relative;background-color: white;}#sk-container-id-6 div.sk-parallel-item:first-child::after {align-self: flex-end;width: 50%;}#sk-container-id-6 div.sk-parallel-item:last-child::after {align-self: flex-start;width: 50%;}#sk-container-id-6 div.sk-parallel-item:only-child::after {width: 0;}#sk-container-id-6 div.sk-dashed-wrapped {border: 1px dashed gray;margin: 0 0.4em 0.5em 0.4em;box-sizing: border-box;padding-bottom: 0.4em;background-color: white;}#sk-container-id-6 div.sk-label label {font-family: monospace;font-weight: bold;display: inline-block;line-height: 1.2em;}#sk-container-id-6 div.sk-label-container {text-align: center;}#sk-container-id-6 div.sk-container {/* jupyter's `normalize.less` sets `[hidden] { display: none; }` but bootstrap.min.css set `[hidden] { display: none !important; }` so we also need the `!important` here to be able to override the default hidden behavior on the sphinx rendered scikit-learn.org. See: https://github.com/scikit-learn/scikit-learn/issues/21755 */display: inline-block !important;position: relative;}#sk-container-id-6 div.sk-text-repr-fallback {display: none;}</style><div id=\"sk-container-id-6\" class=\"sk-top-container\"><div class=\"sk-text-repr-fallback\"><pre>LinearRegression()</pre><b>In a Jupyter environment, please rerun this cell to show the HTML representation or trust the notebook. <br />On GitHub, the HTML representation is unable to render, please try loading this page with nbviewer.org.</b></div><div class=\"sk-container\" hidden><div class=\"sk-item\"><div class=\"sk-estimator sk-toggleable\"><input class=\"sk-toggleable__control sk-hidden--visually\" id=\"sk-estimator-id-6\" type=\"checkbox\" checked><label for=\"sk-estimator-id-6\" class=\"sk-toggleable__label sk-toggleable__label-arrow\">LinearRegression</label><div class=\"sk-toggleable__content\"><pre>LinearRegression()</pre></div></div></div></div></div>"
      ],
      "text/plain": [
       "LinearRegression()"
      ]
     },
     "execution_count": 62,
     "metadata": {},
     "output_type": "execute_result"
    }
   ],
   "source": [
    "##Applying Linear Regression\n",
    "lr_model = LinearRegression()\n",
    "lr_model.fit(X_train,y_train)"
   ]
  },
  {
   "cell_type": "code",
   "execution_count": 63,
   "id": "32eec078",
   "metadata": {},
   "outputs": [
    {
     "name": "stdout",
     "output_type": "stream",
     "text": [
      "[[ 6.27121302e-01  7.58092059e+01  1.64492593e+04  5.64372321e+04\n",
      "   4.04597571e+04 -5.01198212e+03]]\n"
     ]
    }
   ],
   "source": [
    "##Displaying the regression coefficients\n",
    "print(lr_model.coef_)"
   ]
  },
  {
   "cell_type": "code",
   "execution_count": 64,
   "id": "fb404fba",
   "metadata": {
    "scrolled": true
   },
   "outputs": [
    {
     "name": "stdout",
     "output_type": "stream",
     "text": [
      "[-2721.04253433]\n"
     ]
    }
   ],
   "source": [
    "##Displaying the value of intercept\n",
    "print(lr_model.intercept_)"
   ]
  },
  {
   "cell_type": "markdown",
   "id": "46765822",
   "metadata": {},
   "source": [
    "### Evaluating the model(Linear Regression)"
   ]
  },
  {
   "cell_type": "code",
   "execution_count": 65,
   "id": "25a2c466",
   "metadata": {},
   "outputs": [
    {
     "data": {
      "text/plain": [
       "array([[124238.79097408],\n",
       "       [270621.35868634],\n",
       "       [125726.91182161],\n",
       "       [174365.52465507],\n",
       "       [247478.24094563],\n",
       "       [113848.30435007],\n",
       "       [149456.46624995],\n",
       "       [201823.94009631],\n",
       "       [114127.37332966],\n",
       "       [151326.4917267 ],\n",
       "       [164335.04892799],\n",
       "       [126810.81823938],\n",
       "       [122753.83891828],\n",
       "       [216498.49155879],\n",
       "       [210681.41779846],\n",
       "       [142152.96759686],\n",
       "       [204426.95345499],\n",
       "       [124649.37248069],\n",
       "       [125593.04509757],\n",
       "       [228405.75956529],\n",
       "       [205765.34127352],\n",
       "       [199442.79433175],\n",
       "       [213387.62389891],\n",
       "       [134778.84918997],\n",
       "       [225704.46112811],\n",
       "       [195973.93674012],\n",
       "       [202282.56381017],\n",
       "       [121193.22678218],\n",
       "       [212573.92494595],\n",
       "       [205276.22703981],\n",
       "       [ 81552.61128454],\n",
       "       [234347.24307856],\n",
       "       [284004.81569057],\n",
       "       [121177.44245711],\n",
       "       [243071.84058935],\n",
       "       [147018.27643885],\n",
       "       [191682.05373126],\n",
       "       [199918.0424398 ],\n",
       "       [252554.21588061],\n",
       "       [ 51657.92014488],\n",
       "       [104453.79221841],\n",
       "       [229462.45610863],\n",
       "       [116818.43855679],\n",
       "       [298346.58000737],\n",
       "       [136265.71932962],\n",
       "       [167717.69162189],\n",
       "       [117721.76734024],\n",
       "       [132382.4673042 ],\n",
       "       [291022.28525716],\n",
       "       [152511.31036023],\n",
       "       [109604.38102534],\n",
       "       [241529.4465404 ],\n",
       "       [100824.90895104],\n",
       "       [244939.25000514],\n",
       "       [132222.83772397],\n",
       "       [250322.72531167],\n",
       "       [213968.19328167],\n",
       "       [190268.63192043],\n",
       "       [138040.63688427],\n",
       "       [ 48207.49873878],\n",
       "       [ 92090.90968766],\n",
       "       [194750.93994783],\n",
       "       [223229.89313063],\n",
       "       [222839.46643699],\n",
       "       [252466.99798806],\n",
       "       [205588.55329391],\n",
       "       [105767.23900826],\n",
       "       [267042.22602414],\n",
       "       [119236.13322196],\n",
       "       [197879.72750431],\n",
       "       [ 94506.6305572 ],\n",
       "       [116024.35804458],\n",
       "       [112828.04638389],\n",
       "       [105487.58190371],\n",
       "       [341775.7037819 ],\n",
       "       [159821.66869711],\n",
       "       [263783.69375608],\n",
       "       [258023.47347061],\n",
       "       [147292.56808748],\n",
       "       [107338.6793743 ],\n",
       "       [121821.39268911],\n",
       "       [122168.26899141],\n",
       "       [132231.60916112],\n",
       "       [ 61723.24410368],\n",
       "       [135002.92620117],\n",
       "       [109533.56366623],\n",
       "       [225316.07028574],\n",
       "       [214057.57431434],\n",
       "       [132220.95636006],\n",
       "       [197729.26219309],\n",
       "       [183407.71923951],\n",
       "       [196464.95117888],\n",
       "       [110766.42391918],\n",
       "       [267389.45603523],\n",
       "       [230895.28276158],\n",
       "       [201302.23117022],\n",
       "       [212303.0056442 ],\n",
       "       [206752.95108017],\n",
       "       [219329.46850716],\n",
       "       [219229.00114964],\n",
       "       [228355.98905487],\n",
       "       [224157.88534791],\n",
       "       [288651.4323505 ],\n",
       "       [110603.46707668],\n",
       "       [213834.16066014],\n",
       "       [212903.0848988 ],\n",
       "       [137882.81973101],\n",
       "       [252754.15061963],\n",
       "       [119529.09356635],\n",
       "       [195695.73715845],\n",
       "       [ 72555.82022056],\n",
       "       [179245.68213643],\n",
       "       [178756.0893782 ],\n",
       "       [149150.84494303],\n",
       "       [212559.8132671 ],\n",
       "       [124394.41228528],\n",
       "       [115759.04773045],\n",
       "       [108925.88602325],\n",
       "       [ 95705.68648749],\n",
       "       [361293.02637028],\n",
       "       [122508.38088616],\n",
       "       [132222.83772397],\n",
       "       [210520.20027566],\n",
       "       [145462.90110298],\n",
       "       [224278.07807431],\n",
       "       [134493.55279873],\n",
       "       [208251.14623877],\n",
       "       [105649.46002312],\n",
       "       [168427.64804824],\n",
       "       [199997.51967742],\n",
       "       [199167.97025797],\n",
       "       [265366.46252441],\n",
       "       [207750.0663376 ],\n",
       "       [ 89353.93907915],\n",
       "       [ 50748.74518432],\n",
       "       [248253.8076859 ],\n",
       "       [240139.7190296 ],\n",
       "       [132008.05366215],\n",
       "       [242050.5218516 ],\n",
       "       [385785.23903335],\n",
       "       [267340.93095458],\n",
       "       [122383.88179882],\n",
       "       [197525.1327596 ],\n",
       "       [184903.98441583],\n",
       "       [156913.77711083],\n",
       "       [125544.03320843],\n",
       "       [163449.85773326],\n",
       "       [212448.55378392],\n",
       "       [106428.96890298],\n",
       "       [130813.13506192],\n",
       "       [104033.27662965],\n",
       "       [133933.92691903],\n",
       "       [337750.5174569 ],\n",
       "       [176137.29081253],\n",
       "       [121157.12269201],\n",
       "       [244594.14764239],\n",
       "       [210006.28365268],\n",
       "       [154416.1518159 ],\n",
       "       [105874.29497216],\n",
       "       [126899.86946433],\n",
       "       [195595.09878049],\n",
       "       [114608.67703813],\n",
       "       [241712.40877343],\n",
       "       [131221.6681404 ],\n",
       "       [112083.47335047],\n",
       "       [221555.07013458],\n",
       "       [214131.27875672],\n",
       "       [253939.31470087],\n",
       "       [348083.48033099],\n",
       "       [183447.94596581],\n",
       "       [263063.49658913],\n",
       "       [119017.09428579],\n",
       "       [170283.90066181],\n",
       "       [207528.76970387],\n",
       "       [264848.5451956 ],\n",
       "       [100841.80995457],\n",
       "       [140341.43398387],\n",
       "       [231840.60939469],\n",
       "       [149542.0481804 ],\n",
       "       [194216.60793566],\n",
       "       [193392.48159847],\n",
       "       [ 90092.67735729],\n",
       "       [114502.79749612],\n",
       "       [130610.20913961],\n",
       "       [239891.78388316],\n",
       "       [145242.92741448],\n",
       "       [238754.33363511],\n",
       "       [221912.70568607],\n",
       "       [208198.07988409],\n",
       "       [121786.69648213],\n",
       "       [159799.35714106],\n",
       "       [128421.95837117],\n",
       "       [161810.708124  ],\n",
       "       [144412.3506868 ],\n",
       "       [223972.06156848],\n",
       "       [240820.56145796],\n",
       "       [202226.83786327],\n",
       "       [ 93210.94896947],\n",
       "       [227220.15731859],\n",
       "       [139373.4485795 ],\n",
       "       [277169.9599524 ],\n",
       "       [204558.54070515],\n",
       "       [ 96327.95635853],\n",
       "       [264223.55830816],\n",
       "       [218222.81799098],\n",
       "       [175524.92989909],\n",
       "       [227253.36490965],\n",
       "       [145640.32376957],\n",
       "       [120220.69788811],\n",
       "       [110122.62575971],\n",
       "       [208530.78617876],\n",
       "       [134314.58954962],\n",
       "       [173452.77575917],\n",
       "       [192867.74538483],\n",
       "       [189660.18626667],\n",
       "       [235928.04286826],\n",
       "       [166002.05819   ],\n",
       "       [146974.42529575],\n",
       "       [123535.57057907],\n",
       "       [ 96455.09644392],\n",
       "       [129000.72582754],\n",
       "       [220863.34235478],\n",
       "       [228116.44212899],\n",
       "       [133974.15737853],\n",
       "       [211850.82891284],\n",
       "       [138564.73261276],\n",
       "       [101310.46087771],\n",
       "       [146609.24242166],\n",
       "       [140501.00043734],\n",
       "       [114275.8140531 ],\n",
       "       [ 50653.27181835],\n",
       "       [193235.67619708],\n",
       "       [130238.69194887],\n",
       "       [135396.741905  ],\n",
       "       [227158.17570306],\n",
       "       [ 97069.83796024],\n",
       "       [212396.83178528],\n",
       "       [136786.26447912],\n",
       "       [248745.71337336],\n",
       "       [175125.85045616],\n",
       "       [ 96340.24336643],\n",
       "       [186448.59711118],\n",
       "       [217011.37923676],\n",
       "       [307485.71861965],\n",
       "       [204588.69115898],\n",
       "       [144198.23466054],\n",
       "       [127732.7204904 ],\n",
       "       [209539.72607574],\n",
       "       [136620.03706733],\n",
       "       [107268.41666484],\n",
       "       [199810.35923904],\n",
       "       [171450.84365323],\n",
       "       [127803.42854235],\n",
       "       [ 99462.84170096],\n",
       "       [166060.60816435],\n",
       "       [183704.9500744 ],\n",
       "       [103169.30284768],\n",
       "       [184390.59597767],\n",
       "       [197753.83684452],\n",
       "       [250784.93598387],\n",
       "       [250729.71652439],\n",
       "       [194221.89500619],\n",
       "       [129581.77448921],\n",
       "       [239684.2440518 ],\n",
       "       [248318.39828096],\n",
       "       [207493.39721221],\n",
       "       [213176.75037148],\n",
       "       [132220.95636006],\n",
       "       [126423.86100359],\n",
       "       [169548.15762159],\n",
       "       [323129.72737837],\n",
       "       [221318.94453147],\n",
       "       [226020.27726123],\n",
       "       [121399.23311244],\n",
       "       [106301.58535429],\n",
       "       [136577.63825639],\n",
       "       [170234.00506553],\n",
       "       [246720.95198813],\n",
       "       [206278.16403257],\n",
       "       [171657.50043623],\n",
       "       [215318.11017025],\n",
       "       [113874.64344478],\n",
       "       [199045.68160399],\n",
       "       [107571.58391605],\n",
       "       [247492.12006645],\n",
       "       [213739.3056704 ],\n",
       "       [231379.22869554],\n",
       "       [116166.86886843],\n",
       "       [237687.84573727],\n",
       "       [212357.36119421],\n",
       "       [113050.24078402],\n",
       "       [109271.62215228]])"
      ]
     },
     "execution_count": 65,
     "metadata": {},
     "output_type": "execute_result"
    }
   ],
   "source": [
    "##Prediction\n",
    "y_pred = lr_model.predict(X_test)\n",
    "y_pred"
   ]
  },
  {
   "cell_type": "code",
   "execution_count": 66,
   "id": "b4ce27b6",
   "metadata": {
    "scrolled": true
   },
   "outputs": [
    {
     "data": {
      "image/png": "[encoded data removed]",
      "text/plain": [
       "<Figure size 640x480 with 1 Axes>"
      ]
     },
     "metadata": {},
     "output_type": "display_data"
    }
   ],
   "source": [
    "##Plotting the y_pred vs y_test\n",
    "plt.scatter(y_test, y_pred)\n",
    "plt.xlabel(\"Actual Prices\")\n",
    "plt.ylabel(\"Predicted Prices\")\n",
    "plt.title(\"Actual v/s prdicted prices\")\n",
    "plt.show()"
   ]
  },
  {
   "cell_type": "code",
   "execution_count": 67,
   "id": "fa495d28",
   "metadata": {
    "scrolled": true
   },
   "outputs": [
    {
     "data": {
      "text/plain": [
       "<Axes: xlabel='SalePrice'>"
      ]
     },
     "execution_count": 67,
     "metadata": {},
     "output_type": "execute_result"
    },
    {
     "data": {
      "image/png": "[encoded data removed]",
      "text/plain": [
       "<Figure size 640x480 with 1 Axes>"
      ]
     },
     "metadata": {},
     "output_type": "display_data"
    }
   ],
   "source": [
    "sns.regplot(x=y_test, y=y_pred, color = 'blue')"
   ]
  },
  {
   "cell_type": "code",
   "execution_count": 68,
   "id": "80a7818d",
   "metadata": {
    "scrolled": false
   },
   "outputs": [
    {
     "name": "stdout",
     "output_type": "stream",
     "text": [
      "0.6514058093174327\n"
     ]
    }
   ],
   "source": [
    "##Calculating the r2-score for the model\n",
    "from sklearn.metrics import r2_score\n",
    "R2_value = r2_score(y_test, y_pred)\n",
    "print(R2_value)"
   ]
  },
  {
   "cell_type": "code",
   "execution_count": 69,
   "id": "c46e52d9",
   "metadata": {},
   "outputs": [
    {
     "data": {
      "text/plain": [
       "0.5927803708920479"
      ]
     },
     "execution_count": 69,
     "metadata": {},
     "output_type": "execute_result"
    }
   ],
   "source": [
    "lr_model.score(X_train, y_train)"
   ]
  },
  {
   "cell_type": "markdown",
   "id": "b4b4291b",
   "metadata": {},
   "source": [
    "0.4749 depicts that the accuracy of our regression model is 47.49% in reality i.e. our model explains 47.49 % of variability in our data."
   ]
  },
  {
   "cell_type": "markdown",
   "id": "496ab43c",
   "metadata": {},
   "source": [
    "### Taking the test dataset"
   ]
  },
  {
   "cell_type": "code",
   "execution_count": 35,
   "id": "b4fe1aed",
   "metadata": {},
   "outputs": [],
   "source": [
    "X_test = new_test_df[['LotArea', 'BsmtFullBath', 'BsmtHalfBath', 'FullBath', 'HalfBath', 'BedroomAbvGr']]"
   ]
  },
  {
   "cell_type": "code",
   "execution_count": 36,
   "id": "4ac7397d",
   "metadata": {},
   "outputs": [
    {
     "data": {
      "text/html": [
       "<style>#sk-container-id-4 {color: black;}#sk-container-id-4 pre{padding: 0;}#sk-container-id-4 div.sk-toggleable {background-color: white;}#sk-container-id-4 label.sk-toggleable__label {cursor: pointer;display: block;width: 100%;margin-bottom: 0;padding: 0.3em;box-sizing: border-box;text-align: center;}#sk-container-id-4 label.sk-toggleable__label-arrow:before {content: \"▸\";float: left;margin-right: 0.25em;color: #696969;}#sk-container-id-4 label.sk-toggleable__label-arrow:hover:before {color: black;}#sk-container-id-4 div.sk-estimator:hover label.sk-toggleable__label-arrow:before {color: black;}#sk-container-id-4 div.sk-toggleable__content {max-height: 0;max-width: 0;overflow: hidden;text-align: left;background-color: #f0f8ff;}#sk-container-id-4 div.sk-toggleable__content pre {margin: 0.2em;color: black;border-radius: 0.25em;background-color: #f0f8ff;}#sk-container-id-4 input.sk-toggleable__control:checked~div.sk-toggleable__content {max-height: 200px;max-width: 100%;overflow: auto;}#sk-container-id-4 input.sk-toggleable__control:checked~label.sk-toggleable__label-arrow:before {content: \"▾\";}#sk-container-id-4 div.sk-estimator input.sk-toggleable__control:checked~label.sk-toggleable__label {background-color: #d4ebff;}#sk-container-id-4 div.sk-label input.sk-toggleable__control:checked~label.sk-toggleable__label {background-color: #d4ebff;}#sk-container-id-4 input.sk-hidden--visually {border: 0;clip: rect(1px 1px 1px 1px);clip: rect(1px, 1px, 1px, 1px);height: 1px;margin: -1px;overflow: hidden;padding: 0;position: absolute;width: 1px;}#sk-container-id-4 div.sk-estimator {font-family: monospace;background-color: #f0f8ff;border: 1px dotted black;border-radius: 0.25em;box-sizing: border-box;margin-bottom: 0.5em;}#sk-container-id-4 div.sk-estimator:hover {background-color: #d4ebff;}#sk-container-id-4 div.sk-parallel-item::after {content: \"\";width: 100%;border-bottom: 1px solid gray;flex-grow: 1;}#sk-container-id-4 div.sk-label:hover label.sk-toggleable__label {background-color: #d4ebff;}#sk-container-id-4 div.sk-serial::before {content: \"\";position: absolute;border-left: 1px solid gray;box-sizing: border-box;top: 0;bottom: 0;left: 50%;z-index: 0;}#sk-container-id-4 div.sk-serial {display: flex;flex-direction: column;align-items: center;background-color: white;padding-right: 0.2em;padding-left: 0.2em;position: relative;}#sk-container-id-4 div.sk-item {position: relative;z-index: 1;}#sk-container-id-4 div.sk-parallel {display: flex;align-items: stretch;justify-content: center;background-color: white;position: relative;}#sk-container-id-4 div.sk-item::before, #sk-container-id-4 div.sk-parallel-item::before {content: \"\";position: absolute;border-left: 1px solid gray;box-sizing: border-box;top: 0;bottom: 0;left: 50%;z-index: -1;}#sk-container-id-4 div.sk-parallel-item {display: flex;flex-direction: column;z-index: 1;position: relative;background-color: white;}#sk-container-id-4 div.sk-parallel-item:first-child::after {align-self: flex-end;width: 50%;}#sk-container-id-4 div.sk-parallel-item:last-child::after {align-self: flex-start;width: 50%;}#sk-container-id-4 div.sk-parallel-item:only-child::after {width: 0;}#sk-container-id-4 div.sk-dashed-wrapped {border: 1px dashed gray;margin: 0 0.4em 0.5em 0.4em;box-sizing: border-box;padding-bottom: 0.4em;background-color: white;}#sk-container-id-4 div.sk-label label {font-family: monospace;font-weight: bold;display: inline-block;line-height: 1.2em;}#sk-container-id-4 div.sk-label-container {text-align: center;}#sk-container-id-4 div.sk-container {/* jupyter's `normalize.less` sets `[hidden] { display: none; }` but bootstrap.min.css set `[hidden] { display: none !important; }` so we also need the `!important` here to be able to override the default hidden behavior on the sphinx rendered scikit-learn.org. See: https://github.com/scikit-learn/scikit-learn/issues/21755 */display: inline-block !important;position: relative;}#sk-container-id-4 div.sk-text-repr-fallback {display: none;}</style><div id=\"sk-container-id-4\" class=\"sk-top-container\"><div class=\"sk-text-repr-fallback\"><pre>LinearRegression()</pre><b>In a Jupyter environment, please rerun this cell to show the HTML representation or trust the notebook. <br />On GitHub, the HTML representation is unable to render, please try loading this page with nbviewer.org.</b></div><div class=\"sk-container\" hidden><div class=\"sk-item\"><div class=\"sk-estimator sk-toggleable\"><input class=\"sk-toggleable__control sk-hidden--visually\" id=\"sk-estimator-id-4\" type=\"checkbox\" checked><label for=\"sk-estimator-id-4\" class=\"sk-toggleable__label sk-toggleable__label-arrow\">LinearRegression</label><div class=\"sk-toggleable__content\"><pre>LinearRegression()</pre></div></div></div></div></div>"
      ],
      "text/plain": [
       "LinearRegression()"
      ]
     },
     "execution_count": 36,
     "metadata": {},
     "output_type": "execute_result"
    }
   ],
   "source": [
    "##Training the model\n",
    "lr_model.fit(X, y)"
   ]
  },
  {
   "cell_type": "code",
   "execution_count": 37,
   "id": "628ddf3c",
   "metadata": {},
   "outputs": [],
   "source": [
    "y_pred=lr_model.predict(X_test)"
   ]
  },
  {
   "cell_type": "code",
   "execution_count": 38,
   "id": "d4463317",
   "metadata": {},
   "outputs": [
    {
     "data": {
      "text/plain": [
       "array([[112606.119798  ],\n",
       "       [145550.48551853],\n",
       "       [224695.03092123],\n",
       "       ...,\n",
       "       [146582.41859758],\n",
       "       [120117.45460539],\n",
       "       [219383.04414268]])"
      ]
     },
     "execution_count": 38,
     "metadata": {},
     "output_type": "execute_result"
    }
   ],
   "source": [
    "y_pred"
   ]
  },
  {
   "cell_type": "code",
   "execution_count": null,
   "id": "cef06967",
   "metadata": {},
   "outputs": [],
   "source": []
  }
 ],
 "metadata": {
  "kernelspec": {
   "display_name": "Python 3 (ipykernel)",
   "language": "python",
   "name": "python3"
  },
  "language_info": {
   "codemirror_mode": {
    "name": "ipython",
    "version": 3
   },
   "file_extension": ".py",
   "mimetype": "text/x-python",
   "name": "python",
   "nbconvert_exporter": "python",
   "pygments_lexer": "ipython3",
   "version": "3.11.5"
  }
 },
 "nbformat": 4,
 "nbformat_minor": 5
}
